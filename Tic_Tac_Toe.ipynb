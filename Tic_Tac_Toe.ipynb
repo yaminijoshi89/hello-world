{
 "cells": [
  {
   "cell_type": "code",
   "execution_count": 2,
   "metadata": {},
   "outputs": [],
   "source": [
    "from IPython.display import clear_output\n",
    "def display_board(board):\n",
    "    '''\n",
    "    Function that will create and display board\n",
    "    Input: Array of 9 values (1-9)\n",
    "    '''\n",
    "    print(board[7]+'|'+board[8]+'|'+board[9])\n",
    "    print('--|--|--')\n",
    "    print(board[4]+'|'+board[5]+'|'+board[6])\n",
    "    print('--|--|--')\n",
    "    print(board[1]+'|'+board[2]+'|'+board[3])\n"
   ]
  },
  {
   "cell_type": "code",
   "execution_count": 3,
   "metadata": {},
   "outputs": [],
   "source": [
    "def player_input():\n",
    "    '''\n",
    "    Function that takes players input as 'X' or 'O'\n",
    "    '''\n",
    "    mark1 = ''\n",
    "    while mark1 not in ('X','O'):\n",
    "        mark1 = input('Please choose a marker \"X\" or \"O\" :')\n",
    "    if mark1 == 'X':\n",
    "        mark2 = 'O'\n",
    "    else:\n",
    "        mark2 = 'X'\n",
    "    return (mark1,mark2)"
   ]
  },
  {
   "cell_type": "code",
   "execution_count": 4,
   "metadata": {},
   "outputs": [],
   "source": [
    "def place_marker (board,position,marker):\n",
    "    '''\n",
    "    Function that place player's marker at the selected position\n",
    "    '''\n",
    "    board[position] = marker\n",
    "    return board"
   ]
  },
  {
   "cell_type": "code",
   "execution_count": 5,
   "metadata": {},
   "outputs": [],
   "source": [
    "def win_check(board,marker):\n",
    "    '''\n",
    "    Method to check whether an user's input make him win the game\n",
    "    '''\n",
    "    if (board[1] == board[2] == board[3]==marker) or (board[4] == board[5] == board[6]==marker) or (board[7] == board[8] == board[9]==marker):\n",
    "        return True\n",
    "    else:\n",
    "        return False\n",
    "        "
   ]
  },
  {
   "cell_type": "code",
   "execution_count": 6,
   "metadata": {},
   "outputs": [],
   "source": [
    "def space_check(board,position):\n",
    "    '''\n",
    "    Function that checks whether the position selected is freely available or not\n",
    "    '''\n",
    "    avail_space = board[position].strip()\n",
    "    if avail_space == '':\n",
    "        return True\n",
    "    else:\n",
    "        return False\n",
    "  "
   ]
  },
  {
   "cell_type": "code",
   "execution_count": 7,
   "metadata": {},
   "outputs": [],
   "source": [
    "def full_board_check(board):\n",
    "    '''\n",
    "    Function that checks whether board is full or not\n",
    "    '''\n",
    "    bool = True\n",
    "    for i in board:\n",
    "        val = i.strip()\n",
    "        if val!='':\n",
    "            continue\n",
    "        else:\n",
    "            bool = False\n",
    "            break\n",
    "    return bool"
   ]
  },
  {
   "cell_type": "code",
   "execution_count": 11,
   "metadata": {},
   "outputs": [],
   "source": [
    "import random \n",
    "def choose_first():\n",
    "    '''\n",
    "    Function to randomly choose which player will go first\n",
    "    '''\n",
    "    return str(random.randint(1,2))\n",
    "    "
   ]
  },
  {
   "cell_type": "code",
   "execution_count": 8,
   "metadata": {},
   "outputs": [],
   "source": [
    "def player_choice(board):\n",
    "    '''\n",
    "    Function that ask's for a player position and check if the position is free\n",
    "    '''\n",
    "    position = ''\n",
    "    while position not in range(1,10):\n",
    "        position = int(input('Please enter a position to place your marker:'))\n",
    "        \n",
    "    if space_check(board,position):\n",
    "        pass\n",
    "    else:\n",
    "        pass\n",
    "    "
   ]
  },
  {
   "cell_type": "code",
   "execution_count": 9,
   "metadata": {},
   "outputs": [],
   "source": [
    "def replay():\n",
    "    '''\n",
    "    Function to Ask user if they want to play again or quit. Returns boolean\n",
    "    '''\n",
    "    play_again = ''\n",
    "    while play_again.upper() not in ('YES','NO'):\n",
    "        play_again = input('Do you want to play again? (Please enter Yes or No) :')\n",
    "        \n",
    "    if play_again.upper() == 'YES':\n",
    "        return True\n",
    "    else:\n",
    "        return False"
   ]
  },
  {
   "cell_type": "code",
   "execution_count": 17,
   "metadata": {},
   "outputs": [],
   "source": [
    "def start_game():\n",
    "    '''\n",
    "    Function that starts the game and selects player and their markers 'X' and 'O'\n",
    "    '''\n",
    "    print('Welcome to Tic Tac Toe!')\n",
    "    player = choose_first()\n",
    "    print('Player'+player+' will go first.')\n",
    "    marker = player_input()\n",
    "\n",
    "    if player == '1':\n",
    "        player_ = '2'\n",
    "    else:\n",
    "        player_ = '1'\n",
    "    \n",
    "    return ({player:marker[0],player_:marker[1]})"
   ]
  },
  {
   "cell_type": "code",
   "execution_count": 13,
   "metadata": {},
   "outputs": [
    {
     "data": {
      "text/plain": [
       "{'1': 'X', '2': 'O'}"
      ]
     },
     "execution_count": 13,
     "metadata": {},
     "output_type": "execute_result"
    }
   ],
   "source": [
    "play_dict"
   ]
  },
  {
   "cell_type": "code",
   "execution_count": null,
   "metadata": {},
   "outputs": [],
   "source": [
    "test_board('#','','','','','','','','','')\n"
   ]
  },
  {
   "cell_type": "code",
   "execution_count": null,
   "metadata": {},
   "outputs": [],
   "source": []
  }
 ],
 "metadata": {
  "kernelspec": {
   "display_name": "Python 3",
   "language": "python",
   "name": "python3"
  },
  "language_info": {
   "codemirror_mode": {
    "name": "ipython",
    "version": 3
   },
   "file_extension": ".py",
   "mimetype": "text/x-python",
   "name": "python",
   "nbconvert_exporter": "python",
   "pygments_lexer": "ipython3",
   "version": "3.7.3"
  }
 },
 "nbformat": 4,
 "nbformat_minor": 2
}
